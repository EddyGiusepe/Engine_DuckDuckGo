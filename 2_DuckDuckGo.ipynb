{
 "cells": [
  {
   "cell_type": "markdown",
   "metadata": {},
   "source": [
    "# <font color=\"yellow\"><h1 align=\"center\">DuckDuckGo</h1></font>"
   ]
  },
  {
   "cell_type": "markdown",
   "metadata": {},
   "source": [
    "<font color=\"yellow\">Data Scientist.: Dr.Eddy Giusepe Chirinos Isidro</font>"
   ]
  },
  {
   "cell_type": "markdown",
   "metadata": {},
   "source": [
    "Links de estudo:\n",
    "\n",
    "* [Como extrair resultados de pesquisa do DuckDuckGo para endereços de e-mail](https://pavolkutaj.medium.com/how-to-scrape-duckduck-search-results-for-email-addresses-8ef99d0f9afb)\n",
    "\n",
    "* [Raspe os resultados orgânicos do DuckDuckGo com Python](https://python.plainenglish.io/scrape-duckduckgo-organic-results-with-python-e210e539cfae)\n",
    "\n",
    "* [Raspe os resultados de notícias orgânicas do DuckDuckGo com Python](https://python.plainenglish.io/scrape-duckduckgo-organic-news-results-with-python-2161105699be)\n",
    "\n",
    "* [Raspe os resultados do anúncio DuckDuckGo com Python](https://medium.com/geekculture/scrape-duckduckgo-ad-results-with-python-f2aad94aa50d)\n",
    "\n",
    "* [Raspe resultados de vídeo inline do DuckDuckGo com Python](https://python.plainenglish.io/scrape-duckduckgo-inline-video-results-with-python-36ea26ad4676)"
   ]
  },
  {
   "cell_type": "markdown",
   "metadata": {},
   "source": [
    "# <font color=\"red\">Usando DuckDuckGo para extrair Resultados Orgânicos</font>"
   ]
  },
  {
   "cell_type": "markdown",
   "metadata": {},
   "source": [
    "API [SerpApi](https://serpapi.com/integrations/python).\n",
    "\n",
    "[API DOCUMENTATION](https://serpapi.com/search-api)"
   ]
  },
  {
   "cell_type": "code",
   "execution_count": 1,
   "metadata": {},
   "outputs": [
    {
     "name": "stdout",
     "output_type": "stream",
     "text": [
      "Carregando a Chave SerpApi:  True\n"
     ]
    }
   ],
   "source": [
    "from dotenv import load_dotenv\n",
    "import os\n",
    "print('Carregando a Chave SerpApi: ', load_dotenv())\n",
    "Eddy_API_KEY_SerpApi = os.environ[\"SERPAPI_API_KEY\"]"
   ]
  },
  {
   "cell_type": "code",
   "execution_count": null,
   "metadata": {},
   "outputs": [],
   "source": [
    "import json # Para a saída\n",
    "from serpapi import GoogleSearch\n",
    "\n",
    "\n",
    "def DuckDuck_SerpApi(query: str): \n",
    "    params = {\n",
    "    \"api_key\": Eddy_API_KEY_SerpApi,\n",
    "    \"engine\": \"duckduckgo\",\n",
    "    \"q\": query,\n",
    "    #\"kl\": \"br-pt\"\n",
    "    \"gl\": \"br\",\n",
    "    \"hl\": \"pt-br\",\n",
    "    \"num\": \"3\"\n",
    "    }\n",
    "\n",
    "    search = GoogleSearch(params)\n",
    "    results = search.get_dict()\n",
    "    print(len(results))\n",
    "    print(\"\")\n",
    "    print(results)\n",
    "    print(\"\")\n",
    "    for result in results['organic_results']:\n",
    "        print(json.dumps(result, indent=4))\n"
   ]
  },
  {
   "cell_type": "code",
   "execution_count": null,
   "metadata": {},
   "outputs": [],
   "source": [
    "DuckDuck_SerpApi(\"O que significa LLM em Deep Learning?\")"
   ]
  },
  {
   "cell_type": "markdown",
   "metadata": {},
   "source": [
    "# <font color=\"red\">Usando a API DuckDuckGo para resultados de anúncios</font>"
   ]
  },
  {
   "cell_type": "code",
   "execution_count": 8,
   "metadata": {},
   "outputs": [
    {
     "name": "stdout",
     "output_type": "stream",
     "text": [
      "{'search_metadata': {'id': '651896230f9866706e78b768', 'status': 'Success', 'json_endpoint': 'https://serpapi.com/searches/7fa047d3671df107/651896230f9866706e78b768.json', 'created_at': '2023-09-30 21:41:55 UTC', 'processed_at': '2023-09-30 21:41:55 UTC', 'duckduckgo_url': 'https://duckduckgo.com/?q=Explica%C3%A7%C3%A3o+sobre+Redes+Neurais+Recorrentes&kl=us-en', 'raw_html_file': 'https://serpapi.com/searches/7fa047d3671df107/651896230f9866706e78b768.html', 'prettify_html_file': 'https://serpapi.com/searches/7fa047d3671df107/651896230f9866706e78b768.prettify', 'total_time_taken': 6.35}, 'search_parameters': {'engine': 'duckduckgo', 'q': 'Explicação sobre Redes Neurais Recorrentes', 'kl': 'us-en'}, 'search_information': {'organic_results_state': 'Results for exact spelling'}, 'organic_results': [{'position': 1, 'title': 'O que são redes neurais recorrentes? | IBM', 'link': 'https://www.ibm.com/br-pt/topics/recurrent-neural-networks', 'snippet': 'As redes neurais recorrentes utilizam o algoritmo de propagação retroativa através do tempo (BPTT) para determinar os gradientes, o que é ligeiramente diferente da propagação retroativa tradicional, pois isso é específico para dados de sequência.', 'favicon': 'https://external-content.duckduckgo.com/ip3/www.ibm.com.ico'}, {'position': 2, 'title': 'Como funcionam as Redes Neurais Recorrentes (RNNs)?', 'link': 'https://didatica.tech/como-funcionam-redes-neurais-recorrentes-rnn/', 'snippet': 'O que são Redes Neurais Recorrentes. Após o entendimento inicial sobre dados temporais, podemos iniciar a análise da arquitetura de uma rede neural recorrente.', 'favicon': 'https://external-content.duckduckgo.com/ip3/didatica.tech.ico'}, {'position': 3, 'title': 'Redes Neurais Recorrentes: Um guia simplificado - Domine IA', 'link': 'https://domineia.com/redes-neurais-recorrentes/', 'date_raw': '2023-03-21T00:00:00.0000000', 'date': 'Mar 21, 2023', 'snippet': '21 de março de 2023. O que são RNNs e como funcionam? As redes neurais recorrentes, ou RNNs, são uma arquitetura de redes neurais que permite o processamento de dados sequenciais, como séries temporais e textos.', 'favicon': 'https://external-content.duckduckgo.com/ip3/domineia.com.ico'}, {'position': 4, 'title': 'Capítulo 48 - Redes Neurais Recorrentes - Deep Learning Book', 'link': 'https://www.deeplearningbook.com.br/redes-neurais-recorrentes/', 'snippet': 'Capítulo 48 - Redes Neurais Recorrentes. A partir deste capítulo estudaremos diversas outras arquiteturas de Deep Learning, que estão sendo usadas em aplicações de Inteligência Artificial de última geração. Continue conosco nessa incrível jornada. Os humanos não começam a pensar do zero a cada segundo. Ao ler este texto, você ...', 'favicon': 'https://external-content.duckduckgo.com/ip3/www.deeplearningbook.com.br.ico'}, {'position': 5, 'title': 'O que são Redes Neurais? | IBM', 'link': 'https://www.ibm.com/br-pt/topics/neural-networks', 'snippet': 'As redes neurais, também conhecidas como redes neurais artificiais (ANNs) ou redes neurais simuladas (SNNs), são um subconjunto de machine learning e estão no cerne dos algoritmos de deep learning. Seu nome e estrutura são inspirados no cérebro humano, imitando a maneira como os neurônios biológicos enviam sinais uns para os outros.', 'favicon': 'https://external-content.duckduckgo.com/ip3/www.ibm.com.ico'}, {'position': 6, 'title': 'Redes neurais - o que são e qual sua importância? | SAS', 'link': 'https://www.sas.com/pt_br/insights/analytics/neural-networks.html', 'snippet': 'Redes neurais são sistemas de computação com nós interconectados que funcionam como os neurônios do cérebro humano. Usando algoritmos, elas podem reconhecer padrões escondidos e correlações em dados brutos, agrupá-los e classificá-los, e - com o tempo - aprender e melhorar continuamente. História. Importância. Quem está usando? Como funciona?', 'favicon': 'https://external-content.duckduckgo.com/ip3/www.sas.com.ico'}, {'position': 7, 'title': '8.4. Redes Neurais Recorrentes (RNNs) — Dive into Deep Learning ... - D2L', 'link': 'https://pt.d2l.ai/chapter_recurrent-neural-networks/rnn.html', 'snippet': 'Redes neurais recorrentes (RNNs) são redes neurais com estados ocultos. Antes de introduzir o modelo RNN, primeiro revisitamos o modelo MLP introduzido em Section 4.1. 8.4.1. Redes Neurais sem Estados Ocultos. Vamos dar uma olhada em um MLP com uma única camada oculta. Deixe a função de ativação da camada oculta ser ϕ.', 'favicon': 'https://external-content.duckduckgo.com/ip3/pt.d2l.ai.ico'}, {'position': 8, 'title': 'O que é uma rede neural recorrente? - QA Stack', 'link': 'https://qastack.com.br/ai/12042/what-is-a-recurrent-neural-network', 'snippet': 'As redes neurais recorrentes (RNNs) são uma classe de arquitetura de rede neural artificial inspirada na conectividade cíclica de neurônios no cérebro. Ele usa loops de funções iterativas para armazenar informações. Diferença com as redes neurais tradicionais usando imagens deste livro : E uma RNN:', 'favicon': 'https://external-content.duckduckgo.com/ip3/qastack.com.br.ico'}, {'position': 9, 'title': 'O que é uma rede neural? - Explicação sore rede neural artificial - AWS', 'link': 'https://aws.amazon.com/pt/what-is/neural-network/', 'snippet': 'Uma rede neural é um método de inteligência artificial que ensina computadores a processar dados de uma forma inspirada pelo cérebro humano. É um tipo de processo de machine learning, chamado aprendizado profundo, que usa nós ou neurônios interconectados em uma estrutura em camadas, semelhante ao cérebro humano.', 'favicon': 'https://external-content.duckduckgo.com/ip3/aws.amazon.com.ico'}, {'position': 10, 'title': 'Deep Learning e Indústria 4.0: Uma visão geral sobre as redes neurais ...', 'link': 'http://www2.decom.ufop.br/imobilis/deep-learning-e-industria-4-0-uma-visao-geral-sobre-as-redes-neurais-recorrentes/', 'snippet': 'Redes Neurais Recorrentes - Recurrent Neural Networks - RNN. Os dados de entrada em redes neurais recorrentes (RNN) devem apresentar uma relação sequencial, como por exemplo: músicas, séries temporais ou textos.', 'favicon': 'https://external-content.duckduckgo.com/ip3/www2.decom.ufop.br.ico'}, {'position': 11, 'title': 'Redes Neurais Recorrentes: Deep Learning com Pytorch', 'link': 'https://www.alura.com.br/conteudo/rnn-redes-neurais-recorrentes-deep-learning-pytorch', 'snippet': 'Esse curso aqui é sobre redes neurais recorrentes, que são o tipo de rede neural adequada para você trabalhar com dados sequenciais. Inclusive, nós vamos começar falando o que são dados sequenciais e vamos dar um pouco de destaque a mais para o texto, que é uma das aplicações onde as redes recorrentes tiveram mais sucesso de longe.', 'favicon': 'https://external-content.duckduckgo.com/ip3/www.alura.com.br.ico'}, {'position': 12, 'title': 'Rede neural artificial - Wikipédia, a enciclopédia livre', 'link': 'https://pt.wikipedia.org/wiki/Rede_neural_artificial', 'snippet': 'Em ciência da computação e campos relacionados, redes neurais artificiais ( português brasileiro) ou redes neuronais artificiais ( português europeu)[ 1] ( RNAs) são modelos computacionais inspirados pelo sistema nervoso central de um animal (em particular o cérebro) que são capazes de realizar o aprendizado de máquina bem como o reconhecimento ...', 'favicon': 'https://external-content.duckduckgo.com/ip3/pt.wikipedia.org.ico'}, {'position': 13, 'title': 'Redes Neurais Recorrentes - GitHub Pages', 'link': 'https://matheusfacure.github.io/2017/09/12/rnn/', 'snippet': 'Redes Neurais Recorrentes. Lidando com todo tipo de sequência. Posted on 12/09/2017. Neste tutorial não vamos implementar nada e nenhum código será utilizado. Vou apenas explicar o que são as Redes Neurais Recorrentes de uma maneira intuitiva e matemática.', 'favicon': 'https://external-content.duckduckgo.com/ip3/matheusfacure.github.io.ico'}, {'position': 14, 'title': 'PDF Redes Neurais - UFPE', 'link': 'https://www.cin.ufpe.br/~gcv/web_lci/Aula-introducao-redes-neurais.PDF', 'snippet': 'Redes Neurais Prof. Germano CrispimVasconcelos gcv@cin.ufpe.br ramal 21268430 r-4310 Redes Neurais ... • Redes recorrentes Aula 7: Rede de Jordan Aula 8: Rede de Elman e outros modelos ... Sobre Redes Neurais... • É uma abordagem alternativa à forma', 'favicon': 'https://external-content.duckduckgo.com/ip3/www.cin.ufpe.br.ico'}, {'position': 15, 'title': 'Introdução a Redes Neurais Recorrentes - YouTube', 'link': 'https://www.youtube.com/watch?v=ZvBJxh5O3H0', 'snippet': '0:00 / 11:36. Introdução a Redes Neurais Recorrentes. IA Expert Academy. 29.4K subscribers. Subscribe. 9.4K views 4 years ago Redes Neurais e Deep Learning. Nessa videoaula você será...', 'favicon': 'https://external-content.duckduckgo.com/ip3/www.youtube.com.ico'}, {'position': 16, 'title': '(PDF) Contextualização de redes neurais recorrentes - ResearchGate', 'link': 'https://www.researchgate.net/publication/271267400_Contextualizacao_de_redes_neurais_recorrentes', 'snippet': 'Abstract. Atualmente, os estudos sobre redes neurais artificiais. (RNAs) convergem para o conceito de. RNAs recorrentes (RNARs), pela facilidade. de implementação e redução de componentes....', 'favicon': 'https://external-content.duckduckgo.com/ip3/www.researchgate.net.ico'}, {'position': 17, 'title': 'O que são redes convolucionais: uma breve explicação', 'link': 'https://datapeaker.com/pt/big--data/o-que-s%C3%A3o-redes-convolucionais-uma-breve-explica%C3%A7%C3%A3o/', 'snippet': 'Conteúdo. Este artigo foi publicado como parte do Data Science Blogathon. Introdução. Olá! Hoje farei o meu melhor para explicar intuitivamente como funcionam as redes neurais convolucionais recorrentes (CRNN).', 'favicon': 'https://external-content.duckduckgo.com/ip3/datapeaker.com.ico'}, {'position': 18, 'title': 'Os tipos de redes neurais | IA Expert Academy', 'link': 'https://iaexpert.academy/2020/06/08/os-tipos-de-redes-neurais/', 'snippet': 'As redes neurais com unidades recorrentes com portão são uma variação das LSTMs. O portão de entrada e saída é substituído por um portão de atualização, que é responsável por controlar quanto de informação reter e quanto atualizar.', 'favicon': 'https://external-content.duckduckgo.com/ip3/iaexpert.academy.ico'}, {'position': 19, 'title': 'O que são Redes Neurais? - TecMundo', 'link': 'https://www.tecmundo.com.br/programacao/2754-o-que-sao-redes-neurais-.htm', 'snippet': 'O que são Redes Neurais? 18/09/2009 às 10:41. 8 min de leitura. Pablo de Assis. 16 Compartilharam. A humanidade sempre desenvolveu máquinas para nos auxiliar. Elas aperfeiçoam nossa potência ou velocidade, reduzindo o tempo de trabalho ou aumentando nossa força.', 'favicon': 'https://external-content.duckduckgo.com/ip3/www.tecmundo.com.br.ico'}, {'position': 20, 'title': 'Introdução a Redes Neurais Recorrentes - YouTube', 'link': 'https://www.youtube.com/watch?v=nvCY5GUq1xw', 'snippet': '0:00 / 10:47. Introdução a Redes Neurais Recorrentes. 878 views. Mar 30, 2020. 45 Dislike Share. Escola de Inteligência Artificial. 9.96K subscribers. Este Vídeo Faz parte do Curso Formação...', 'favicon': 'https://external-content.duckduckgo.com/ip3/www.youtube.com.ico'}, {'position': 21, 'title': 'Redes Neurais Artificiais - University of São Paulo', 'link': 'https://sites.icmc.usp.br/andre/research/neural/', 'snippet': 'Tópicos: Características Gerais das Redes Neurais. Perceptron multi-camadas (MLP) Utilização Limitações. Desenvolvimento de Aplicações. Introdução. Redes Neurais Artificiais são técnicas computacionais que apresentam um modelo matemático inspirado na estrutura neural de organismos inteligentes e que adquirem conhecimento através da experiência.', 'favicon': 'https://external-content.duckduckgo.com/ip3/sites.icmc.usp.br.ico'}, {'position': 22, 'title': 'Redes Neurais Recorrentes', 'link': 'https://stecine.azureedge.net/repositorio/00212ti/04165/index.html', 'snippet': 'Entre os modelos disponíveis estão as Redes Neurais Recorrentes - Recurrent Neural Network (RNN). Essas redes possuem como principal característica trabalhar com dados sequenciais, o que as torna muito interessantes para lidar com Processamento de Linguagem Natural (PLN) e estudar séries temporais.', 'favicon': 'https://external-content.duckduckgo.com/ip3/stecine.azureedge.net.ico'}, {'position': 23, 'title': 'COMO FUNCIONAM AS REDES NEURAIS? - YouTube', 'link': 'https://www.youtube.com/watch?v=Y4lVTmQ43aQ', 'snippet': '18K views 5 years ago. ***** Inscreva-se: https://goo.gl/G4Ppnf ***** Descrição: Vamos falar sobre como funciona as redes neurais, qual aprender a matem. Join this channel and unlock...', 'favicon': 'https://external-content.duckduckgo.com/ip3/www.youtube.com.ico'}], 'inline_videos': [{'position': 1, 'title': 'Introdução a Redes Neurais Recorrentes', 'link': 'https://www.youtube.com/watch?v=ZvBJxh5O3H0', 'duration': '11:36', 'platform': 'YouTube', 'date': '2018-07-20T20:00:37.0000000', 'views': 10171, 'thumbnail': 'https://tse3.mm.bing.net/th?id=OVP.OAJeMEmfHIPaxFCOHhFWSQHgFo&pid=Api'}, {'position': 2, 'title': 'O que são redes neurais recorrentes?  | IBM', 'link': 'https://www.ibm.com/br-pt/topics/recurrent-neural-networks', 'duration': '', 'platform': 'ibm.com', 'date': '2023-04-11T06:18:00.0000000', 'thumbnail': 'https://tse2.mm.bing.net/th?id=OVP.yRgD1uOWEz2wsJzf22Rk0AEsDH&pid=Api'}, {'position': 3, 'title': 'Modelando Sequências com Redes Neurais Recorrentes (RNNs) | Deep Learning | Leonardo Ribeiro', 'link': 'https://www.youtube.com/watch?v=elyOXSwL8xI', 'duration': '17:03', 'platform': 'YouTube', 'date': '2020-09-27T09:13:56.0000000', 'views': 1273, 'thumbnail': 'https://tse1.mm.bing.net/th?id=OVP.8Dqbq9H9bwywk0Xcll4xgQEsDh&pid=Api'}, {'position': 4, 'title': 'Redes Neurais Recorrentes (RNN) - LSTM, GRU, Seq2seq e Mecanismos de atenção', 'link': 'https://www.youtube.com/watch?v=94hG00EJFNo', 'duration': '2:03:23', 'platform': 'YouTube', 'date': '2018-06-24T01:23:54.0000000', 'views': 10861, 'thumbnail': 'https://tse3.mm.bing.net/th?id=OVP.h-NW3CJAyvriwaC3kN5NLwEsDh&pid=Api'}, {'position': 5, 'title': 'Redes Neurais e Machine Learning | Nerdologia Tech', 'link': 'https://www.youtube.com/watch?v=1_c_MA1F-vU', 'duration': '9:13', 'platform': 'YouTube', 'date': '2019-01-31T12:57:40.0000000', 'views': 267370, 'thumbnail': 'https://tse1.mm.bing.net/th?id=OVP.eBQW-gf2vBUW2GzG5LrChQEsDh&pid=Api'}, {'position': 6, 'title': 'Introdução a Redes Neurais e Deep Learning', 'link': 'https://www.youtube.com/watch?v=Z2SGE3_2Grg', 'duration': '1:06:32', 'platform': 'YouTube', 'date': '2020-02-10T14:56:17.0000000', 'views': 73693, 'thumbnail': 'https://tse2.mm.bing.net/th?id=OVP.4S5SjuqC_4wb2wwY3XA3jwEsDh&pid=Api'}, {'position': 7, 'title': 'O que são Redes Neurais?  | IBM', 'link': 'https://www.ibm.com/br-pt/topics/neural-networks', 'duration': '', 'platform': 'ibm.com', 'date': '2023-05-24T06:10:19.0000000', 'thumbnail': 'https://tse3.mm.bing.net/th?id=OVP.mZAMp4DtkDwhpvBJtAi7MAEsDH&pid=Api'}, {'position': 8, 'title': 'Redes Neurais para Leigos', 'link': 'https://www.youtube.com/watch?v=nGaC4rNZChc', 'duration': '0:30', 'platform': 'YouTube', 'date': '2023-05-06T17:00:34.0000000', 'views': 715, 'thumbnail': 'https://tse1.mm.bing.net/th?id=OVP.r_HMdaijKHKqIKeQiyPl8AEkII&pid=Api'}, {'position': 9, 'title': 'Aplicação de redes neurais #shorts', 'link': 'https://www.youtube.com/watch?v=wkJO4ugDhZ4', 'duration': '0:54', 'platform': 'YouTube', 'date': '2022-04-13T15:01:04.0000000', 'views': 2338, 'thumbnail': 'https://tse1.mm.bing.net/th?id=OVP.5Sbffg90VoZ4bWZUo7Td_gEkII&pid=Api'}, {'position': 10, 'title': 'Introdução a Redes Neurais Convolucionais', 'link': 'https://www.youtube.com/watch?v=WxIGGOfXUYU', 'duration': '13:41', 'platform': 'YouTube', 'date': '2021-02-16T10:00:09.0000000', 'views': 3994, 'thumbnail': 'https://tse2.mm.bing.net/th?id=OVP.wZ1Lbgu4rwp0nlU6NXVmnAEsDh&pid=Api'}], 'inline_videos_link': 'https://duckduckgo.com/?q=Explica%C3%A7%C3%A3o+sobre+Redes+Neurais+Recorrentes&kl=us-en&iax=videos&ia=videos', 'serpapi_pagination': {'next': 'https://serpapi.com/search.json?engine=duckduckgo&kl=us-en&q=Explica%C3%A7%C3%A3o+sobre+Redes+Neurais+Recorrentes&start=23'}}\n",
      "\n",
      "[\n",
      "  {\n",
      "    \"position\": 1,\n",
      "    \"title\": \"Introdução a Redes Neurais Recorrentes\",\n",
      "    \"link\": \"https://www.youtube.com/watch?v=ZvBJxh5O3H0\",\n",
      "    \"duration\": \"11:36\",\n",
      "    \"platform\": \"YouTube\",\n",
      "    \"date\": \"2018-07-20T20:00:37.0000000\",\n",
      "    \"views\": 10171,\n",
      "    \"thumbnail\": \"https://tse3.mm.bing.net/th?id=OVP.OAJeMEmfHIPaxFCOHhFWSQHgFo&pid=Api\"\n",
      "  },\n",
      "  {\n",
      "    \"position\": 2,\n",
      "    \"title\": \"O que são redes neurais recorrentes?  | IBM\",\n",
      "    \"link\": \"https://www.ibm.com/br-pt/topics/recurrent-neural-networks\",\n",
      "    \"duration\": \"\",\n",
      "    \"platform\": \"ibm.com\",\n",
      "    \"date\": \"2023-04-11T06:18:00.0000000\",\n",
      "    \"thumbnail\": \"https://tse2.mm.bing.net/th?id=OVP.yRgD1uOWEz2wsJzf22Rk0AEsDH&pid=Api\"\n",
      "  },\n",
      "  {\n",
      "    \"position\": 3,\n",
      "    \"title\": \"Modelando Sequências com Redes Neurais Recorrentes (RNNs) | Deep Learning | Leonardo Ribeiro\",\n",
      "    \"link\": \"https://www.youtube.com/watch?v=elyOXSwL8xI\",\n",
      "    \"duration\": \"17:03\",\n",
      "    \"platform\": \"YouTube\",\n",
      "    \"date\": \"2020-09-27T09:13:56.0000000\",\n",
      "    \"views\": 1273,\n",
      "    \"thumbnail\": \"https://tse1.mm.bing.net/th?id=OVP.8Dqbq9H9bwywk0Xcll4xgQEsDh&pid=Api\"\n",
      "  },\n",
      "  {\n",
      "    \"position\": 4,\n",
      "    \"title\": \"Redes Neurais Recorrentes (RNN) - LSTM, GRU, Seq2seq e Mecanismos de atenção\",\n",
      "    \"link\": \"https://www.youtube.com/watch?v=94hG00EJFNo\",\n",
      "    \"duration\": \"2:03:23\",\n",
      "    \"platform\": \"YouTube\",\n",
      "    \"date\": \"2018-06-24T01:23:54.0000000\",\n",
      "    \"views\": 10861,\n",
      "    \"thumbnail\": \"https://tse3.mm.bing.net/th?id=OVP.h-NW3CJAyvriwaC3kN5NLwEsDh&pid=Api\"\n",
      "  },\n",
      "  {\n",
      "    \"position\": 5,\n",
      "    \"title\": \"Redes Neurais e Machine Learning | Nerdologia Tech\",\n",
      "    \"link\": \"https://www.youtube.com/watch?v=1_c_MA1F-vU\",\n",
      "    \"duration\": \"9:13\",\n",
      "    \"platform\": \"YouTube\",\n",
      "    \"date\": \"2019-01-31T12:57:40.0000000\",\n",
      "    \"views\": 267370,\n",
      "    \"thumbnail\": \"https://tse1.mm.bing.net/th?id=OVP.eBQW-gf2vBUW2GzG5LrChQEsDh&pid=Api\"\n",
      "  },\n",
      "  {\n",
      "    \"position\": 6,\n",
      "    \"title\": \"Introdução a Redes Neurais e Deep Learning\",\n",
      "    \"link\": \"https://www.youtube.com/watch?v=Z2SGE3_2Grg\",\n",
      "    \"duration\": \"1:06:32\",\n",
      "    \"platform\": \"YouTube\",\n",
      "    \"date\": \"2020-02-10T14:56:17.0000000\",\n",
      "    \"views\": 73693,\n",
      "    \"thumbnail\": \"https://tse2.mm.bing.net/th?id=OVP.4S5SjuqC_4wb2wwY3XA3jwEsDh&pid=Api\"\n",
      "  },\n",
      "  {\n",
      "    \"position\": 7,\n",
      "    \"title\": \"O que são Redes Neurais?  | IBM\",\n",
      "    \"link\": \"https://www.ibm.com/br-pt/topics/neural-networks\",\n",
      "    \"duration\": \"\",\n",
      "    \"platform\": \"ibm.com\",\n",
      "    \"date\": \"2023-05-24T06:10:19.0000000\",\n",
      "    \"thumbnail\": \"https://tse3.mm.bing.net/th?id=OVP.mZAMp4DtkDwhpvBJtAi7MAEsDH&pid=Api\"\n",
      "  },\n",
      "  {\n",
      "    \"position\": 8,\n",
      "    \"title\": \"Redes Neurais para Leigos\",\n",
      "    \"link\": \"https://www.youtube.com/watch?v=nGaC4rNZChc\",\n",
      "    \"duration\": \"0:30\",\n",
      "    \"platform\": \"YouTube\",\n",
      "    \"date\": \"2023-05-06T17:00:34.0000000\",\n",
      "    \"views\": 715,\n",
      "    \"thumbnail\": \"https://tse1.mm.bing.net/th?id=OVP.r_HMdaijKHKqIKeQiyPl8AEkII&pid=Api\"\n",
      "  },\n",
      "  {\n",
      "    \"position\": 9,\n",
      "    \"title\": \"Aplicação de redes neurais #shorts\",\n",
      "    \"link\": \"https://www.youtube.com/watch?v=wkJO4ugDhZ4\",\n",
      "    \"duration\": \"0:54\",\n",
      "    \"platform\": \"YouTube\",\n",
      "    \"date\": \"2022-04-13T15:01:04.0000000\",\n",
      "    \"views\": 2338,\n",
      "    \"thumbnail\": \"https://tse1.mm.bing.net/th?id=OVP.5Sbffg90VoZ4bWZUo7Td_gEkII&pid=Api\"\n",
      "  },\n",
      "  {\n",
      "    \"position\": 10,\n",
      "    \"title\": \"Introdução a Redes Neurais Convolucionais\",\n",
      "    \"link\": \"https://www.youtube.com/watch?v=WxIGGOfXUYU\",\n",
      "    \"duration\": \"13:41\",\n",
      "    \"platform\": \"YouTube\",\n",
      "    \"date\": \"2021-02-16T10:00:09.0000000\",\n",
      "    \"views\": 3994,\n",
      "    \"thumbnail\": \"https://tse2.mm.bing.net/th?id=OVP.wZ1Lbgu4rwp0nlU6NXVmnAEsDh&pid=Api\"\n",
      "  }\n",
      "]\n"
     ]
    }
   ],
   "source": [
    "import json\n",
    "from serpapi import GoogleSearch\n",
    "\n",
    "params = {\n",
    "  \"api_key\": Eddy_API_KEY_SerpApi,\n",
    "  \"engine\": \"duckduckgo\",\n",
    "  \"q\": \"Explicação sobre Redes Neurais Recorrentes\",\n",
    "  \"gl\": \"br\",\n",
    "  \"hl\": \"pt-br\",\n",
    "  \"num\": \"3\"\n",
    "}\n",
    "\n",
    "search = GoogleSearch(params)\n",
    "results = search.get_dict()\n",
    "print(results)\n",
    "print(\"\")\n",
    "print(json.dumps(results[\"inline_videos\"], indent=2, ensure_ascii=False)) # Repara que as Chaves vão mudando \"inline_videos\""
   ]
  },
  {
   "cell_type": "code",
   "execution_count": null,
   "metadata": {},
   "outputs": [],
   "source": []
  },
  {
   "cell_type": "code",
   "execution_count": null,
   "metadata": {},
   "outputs": [],
   "source": []
  }
 ],
 "metadata": {
  "kernelspec": {
   "display_name": "venv_Duck",
   "language": "python",
   "name": "python3"
  },
  "language_info": {
   "codemirror_mode": {
    "name": "ipython",
    "version": 3
   },
   "file_extension": ".py",
   "mimetype": "text/x-python",
   "name": "python",
   "nbconvert_exporter": "python",
   "pygments_lexer": "ipython3",
   "version": "3.10.12"
  },
  "orig_nbformat": 4
 },
 "nbformat": 4,
 "nbformat_minor": 2
}
